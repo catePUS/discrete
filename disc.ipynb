{
 "cells": [
  {
   "cell_type": "code",
   "execution_count": null,
   "metadata": {},
   "outputs": [],
   "source": [
    "l = (2,3,5,7,11,13)"
   ]
  },
  {
   "cell_type": "code",
   "execution_count": 11,
   "metadata": {},
   "outputs": [
    {
     "data": {
      "text/plain": [
       "0.196380615234375"
      ]
     },
     "execution_count": 11,
     "metadata": {},
     "output_type": "execute_result"
    }
   ],
   "source": [
    "import math\n",
    "a = math.factorial(15)\n",
    "b = math.factorial(7)*math.factorial(8)\n",
    "C= a/b\n",
    "p= 0.5\n",
    "q = 1-p\n",
    "p_15_7 = C * p**7 * q **8\n",
    "p_15_7"
   ]
  },
  {
   "cell_type": "code",
   "execution_count": 21,
   "metadata": {},
   "outputs": [
    {
     "name": "stdout",
     "output_type": "stream",
     "text": [
      "0.3499755859375\n"
     ]
    }
   ],
   "source": [
    "p_15=0\n",
    "l = (2,3,5,7,11,13)\n",
    "p= 0.5\n",
    "q = 1-p\n",
    "import math\n",
    "for i in l:\n",
    "    a = math.factorial(15)\n",
    "    b = math.factorial(i)*math.factorial(15-i)\n",
    "    C= a/b\n",
    "    x = C * p**i * q **(15-i)\n",
    "    p_15+=x\n",
    "print(p_15)"
   ]
  },
  {
   "cell_type": "code",
   "execution_count": 47,
   "metadata": {},
   "outputs": [
    {
     "data": {
      "text/plain": [
       "array([10, 10, 19, 11, 10, 11,  7,  2,  6, 13])"
      ]
     },
     "execution_count": 47,
     "metadata": {},
     "output_type": "execute_result"
    }
   ],
   "source": [
    "import numpy as np\n",
    "\n",
    "c = np.random.randint(10, 19, size=1000)\n",
    "с"
   ]
  },
  {
   "cell_type": "code",
   "execution_count": 48,
   "metadata": {},
   "outputs": [
    {
     "name": "stderr",
     "output_type": "stream",
     "text": [
      "<ipython-input-48-a9574bc8e1b0>:1: DeprecationWarning: This function is deprecated. Please call randint(10, 19 + 1) instead\n",
      "  c = np.random.random_integers(10, 19, size = 1000)\n"
     ]
    },
    {
     "data": {
      "text/plain": [
       "array([19, 16, 17, 13, 19, 14, 10, 17, 19, 10, 14, 11, 15, 16, 12, 14, 11,\n",
       "       12, 14, 11, 10, 10, 14, 19, 13, 12, 18, 16, 13, 19, 14, 19, 12, 15,\n",
       "       19, 11, 15, 18, 11, 11, 13, 13, 19, 19, 16, 19, 16, 13, 11, 13, 10,\n",
       "       10, 14, 13, 17, 16, 14, 10, 10, 17, 16, 12, 18, 11, 10, 14, 11, 17,\n",
       "       14, 17, 12, 11, 17, 19, 11, 10, 11, 16, 11, 15, 13, 12, 18, 16, 16,\n",
       "       18, 19, 12, 19, 18, 12, 19, 10, 18, 10, 14, 14, 10, 18, 10, 12, 17,\n",
       "       17, 15, 10, 15, 18, 11, 10, 18, 13, 13, 12, 12, 13, 14, 18, 15, 19,\n",
       "       17, 11, 15, 13, 13, 13, 12, 17, 11, 15, 10, 17, 17, 12, 13, 13, 12,\n",
       "       12, 12, 18, 13, 15, 18, 16, 19, 10, 16, 17, 14, 10, 12, 15, 17, 15,\n",
       "       18, 17, 18, 13, 15, 13, 19, 17, 12, 14, 18, 18, 17, 10, 15, 10, 16,\n",
       "       12, 14, 10, 11, 15, 18, 16, 12, 19, 10, 10, 14, 15, 11, 17, 18, 14,\n",
       "       12, 18, 12, 16, 14, 11, 16, 18, 17, 15, 14, 19, 12, 19, 17, 19, 16,\n",
       "       13, 19, 14, 10, 18, 13, 17, 13, 12, 19, 11, 17, 16, 19, 15, 12, 16,\n",
       "       11, 11, 18, 19, 12, 15, 19, 13, 11, 19, 15, 11, 17, 12, 13, 18, 13,\n",
       "       19, 12, 18, 19, 11, 14, 12, 17, 16, 14, 19, 13, 17, 15, 10, 15, 13,\n",
       "       14, 12, 16, 12, 16, 15, 19, 11, 19, 19, 11, 14, 19, 10, 14, 10, 12,\n",
       "       11, 18, 19, 19, 18, 19, 12, 17, 17, 19, 12, 17, 19, 16, 18, 18, 18,\n",
       "       19, 14, 16, 15, 13, 17, 15, 11, 19, 13, 13, 16, 17, 16, 12, 16, 16,\n",
       "       10, 17, 11, 18, 13, 12, 13, 10, 10, 11, 11, 14, 14, 10, 19, 10, 19,\n",
       "       17, 14, 17, 16, 19, 14, 12, 17, 19, 19, 16, 15, 14, 19, 10, 11, 10,\n",
       "       19, 11, 17, 12, 14, 16, 19, 15, 15, 12, 18, 11, 15, 17, 16, 19, 18,\n",
       "       13, 14, 13, 11, 11, 18, 12, 16, 13, 13, 15, 11, 15, 16, 12, 17, 11,\n",
       "       13, 10, 15, 15, 15, 17, 18, 12, 12, 18, 19, 12, 17, 11, 15, 19, 15,\n",
       "       17, 15, 11, 16, 10, 14, 14, 11, 14, 19, 19, 10, 19, 16, 13, 17, 13,\n",
       "       15, 12, 10, 12, 19, 17, 14, 17, 11, 12, 15, 10, 17, 18, 16, 17, 11,\n",
       "       12, 16, 18, 11, 14, 15, 18, 18, 14, 10, 18, 15, 13, 19, 13, 19, 16,\n",
       "       11, 14, 12, 13, 17, 13, 10, 15, 15, 18, 15, 11, 12, 12, 17, 14, 11,\n",
       "       18, 17, 14, 14, 11, 12, 15, 10, 14, 12, 16, 13, 16, 10, 17, 14, 15,\n",
       "       16, 15, 17, 12, 12, 19, 14, 17, 15, 17, 12, 17, 16, 17, 17, 13, 16,\n",
       "       14, 14, 19, 17, 19, 17, 10, 11, 14, 16, 11, 16, 11, 11, 13, 13, 14,\n",
       "       11, 13, 19, 16, 17, 19, 14, 19, 16, 12, 17, 10, 12, 18, 15, 13, 18,\n",
       "       16, 18, 14, 13, 19, 11, 16, 14, 14, 18, 17, 18, 15, 14, 15, 11, 18,\n",
       "       15, 18, 15, 18, 15, 13, 10, 16, 19, 17, 16, 12, 19, 19, 19, 18, 18,\n",
       "       11, 19, 15, 19, 13, 11, 18, 14, 13, 19, 14, 13, 19, 19, 18, 19, 13,\n",
       "       13, 16, 17, 15, 18, 15, 17, 10, 14, 15, 14, 19, 19, 16, 12, 11, 16,\n",
       "       17, 19, 14, 13, 18, 13, 14, 17, 16, 13, 16, 17, 13, 18, 11, 11, 12,\n",
       "       13, 19, 10, 18, 17, 10, 12, 12, 18, 13, 15, 19, 13, 15, 10, 14, 11,\n",
       "       11, 15, 19, 14, 17, 18, 17, 18, 16, 10, 10, 12, 10, 12, 17, 18, 14,\n",
       "       15, 12, 13, 12, 13, 14, 15, 15, 16, 10, 13, 14, 18, 14, 14, 13, 14,\n",
       "       17, 15, 19, 16, 14, 12, 18, 11, 15, 13, 13, 18, 16, 11, 17, 15, 17,\n",
       "       16, 18, 14, 13, 18, 12, 19, 17, 10, 19, 18, 16, 18, 11, 14, 14, 12,\n",
       "       13, 14, 19, 17, 15, 13, 12, 13, 18, 11, 14, 19, 12, 13, 10, 16, 12,\n",
       "       17, 13, 19, 15, 10, 13, 19, 14, 18, 15, 13, 12, 19, 19, 18, 15, 18,\n",
       "       17, 16, 15, 19, 17, 12, 17, 10, 17, 19, 12, 17, 15, 16, 10, 15, 18,\n",
       "       11, 18, 15, 11, 10, 18, 10, 19, 15, 13, 10, 16, 15, 17, 15, 17, 14,\n",
       "       13, 15, 19, 13, 15, 17, 14, 11, 12, 13, 12, 17, 12, 12, 19, 13, 14,\n",
       "       13, 12, 12, 16, 10, 12, 12, 16, 19, 19, 15, 10, 10, 11, 14, 12, 10,\n",
       "       14, 19, 16, 18, 16, 17, 17, 15, 18, 19, 16, 12, 10, 19, 17, 11, 13,\n",
       "       18, 12, 12, 14, 10, 16, 18, 13, 19, 16, 16, 11, 11, 14, 11, 11, 16,\n",
       "       18, 19, 15, 13, 19, 16, 14, 15, 19, 17, 14, 11, 12, 11, 19, 18, 11,\n",
       "       13, 13, 19, 15, 17, 15, 16, 17, 12, 13, 13, 13, 15, 18, 17, 14, 19,\n",
       "       17, 13, 18, 11, 12, 13, 18, 16, 15, 19, 19, 10, 18, 14, 17, 12, 16,\n",
       "       14, 17, 17, 17, 11, 18, 16, 16, 12, 12, 19, 10, 14, 16, 17, 17, 19,\n",
       "       16, 19, 14, 11, 13, 15, 15, 11, 18, 14, 17, 13, 18, 10, 13, 18, 12,\n",
       "       12, 18, 17, 17, 19, 17, 19, 16, 19, 12, 15, 15, 11, 11, 11, 11, 10,\n",
       "       13, 19, 12, 15, 12, 18, 10, 18, 19, 12, 12, 11, 18, 19, 11, 16, 17,\n",
       "       12, 19, 16, 19, 19, 15, 13, 16, 12, 16, 14, 18, 17, 10, 18, 12, 11,\n",
       "       13, 11, 16, 16, 14, 16, 19, 14, 19, 18, 16, 12, 14, 18, 13, 16, 16,\n",
       "       12, 16, 11, 18, 16, 10, 11, 16, 17, 16, 12, 15, 17, 15])"
      ]
     },
     "execution_count": 48,
     "metadata": {},
     "output_type": "execute_result"
    }
   ],
   "source": [
    "c = np.random.random_integers(10, 19, size = 1000)\n",
    "c "
   ]
  },
  {
   "cell_type": "code",
   "execution_count": 44,
   "metadata": {},
   "outputs": [
    {
     "name": "stdout",
     "output_type": "stream",
     "text": [
      "mean of c :  9.9\n",
      "var of c :  74.780785\n",
      "median of c :  30.0\n"
     ]
    }
   ],
   "source": [
    "import numpy as np\n",
    "print(\"mean of c : \", np.mean(с))\n",
    "print(\"var of c : \", np.var(c,dtype = np.float32))\n",
    "print(\"median of c : \", np.median(c))"
   ]
  },
  {
   "cell_type": "code",
   "execution_count": 51,
   "metadata": {},
   "outputs": [
    {
     "data": {
      "text/plain": [
       "Counter({19: 123,\n",
       "         16: 99,\n",
       "         17: 108,\n",
       "         13: 101,\n",
       "         14: 96,\n",
       "         10: 76,\n",
       "         11: 93,\n",
       "         15: 96,\n",
       "         12: 108,\n",
       "         18: 100})"
      ]
     },
     "execution_count": 51,
     "metadata": {},
     "output_type": "execute_result"
    }
   ],
   "source": [
    "import collections\n",
    "o = collections.Counter(c.flatten())\n",
    "o"
   ]
  },
  {
   "cell_type": "code",
   "execution_count": 57,
   "metadata": {},
   "outputs": [
    {
     "name": "stderr",
     "output_type": "stream",
     "text": [
      "<ipython-input-57-e03a002e2db4>:1: DeprecationWarning: This function is deprecated. Please call randint(10, 19 + 1) instead\n",
      "  sample=np.random.random_integers(10, 19, size = 1000)\n"
     ]
    },
    {
     "data": {
      "image/png": "[encoded data removed]",
      "text/plain": [
       "<Figure size 432x288 with 1 Axes>"
      ]
     },
     "metadata": {},
     "output_type": "display_data"
    }
   ],
   "source": [
    "sample=np.random.random_integers(10, 19, size = 1000)\n",
    "plt.hist(sample)\n",
    "plt.show()"
   ]
  },
  {
   "cell_type": "code",
   "execution_count": null,
   "metadata": {},
   "outputs": [],
   "source": []
  }
 ],
 "metadata": {
  "kernelspec": {
   "display_name": "Python 3",
   "language": "python",
   "name": "python3"
  },
  "language_info": {
   "codemirror_mode": {
    "name": "ipython",
    "version": 3
   },
   "file_extension": ".py",
   "mimetype": "text/x-python",
   "name": "python",
   "nbconvert_exporter": "python",
   "pygments_lexer": "ipython3",
   "version": "3.8.5"
  }
 },
 "nbformat": 4,
 "nbformat_minor": 4
}
